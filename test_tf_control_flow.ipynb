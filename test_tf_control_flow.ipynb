{
 "cells": [
  {
   "cell_type": "markdown",
   "metadata": {},
   "source": [
    "# Different ways to modify Tensorflow variable values"
   ]
  },
  {
   "cell_type": "code",
   "execution_count": 15,
   "metadata": {},
   "outputs": [],
   "source": [
    "import numpy as np\n",
    "import tensorflow as tf"
   ]
  },
  {
   "cell_type": "markdown",
   "metadata": {},
   "source": [
    "## 1. Use `tf.assign`\n",
    "\n",
    "The operation `tf.assign`, once called, will updata the associated varibles"
   ]
  },
  {
   "cell_type": "code",
   "execution_count": 49,
   "metadata": {},
   "outputs": [
    {
     "name": "stdout",
     "output_type": "stream",
     "text": [
      "run b only,   b=[ 0.  0.  0.  0.  0.]\nrun b only,   b=[ 0.  0.  0.  0.  0.]\nrun assign_op and b,   b=[ 0.  0.  0.  0.  0.]\nrun assign_op and b,   b=[ 1.  1.  1.  1.  1.]\nrun b and assign_op,   b=[ 2.  2.  2.  2.  2.]\nrun b and assign_op,   b=[ 3.  3.  3.  3.  3.]\nrun b only,   b=[ 4.  4.  4.  4.  4.]\nrun b only,   b=[ 4.  4.  4.  4.  4.]\n"
     ]
    }
   ],
   "source": [
    "graph = tf.Graph()\n",
    "with graph.as_default():\n",
    "    # graph: variable b increment by X_in\n",
    "    X_in = tf.placeholder(dtype=tf.float32, shape=5)\n",
    "    b = tf.Variable(dtype=tf.float32, initial_value=np.zeros(5))\n",
    "    assign_op = tf.assign(b, b + X_in)     # assign operation, has to be run to update b\n",
    "\n",
    "\n",
    "with tf.Session(graph=graph) as session:\n",
    "    tf.global_variables_initializer().run()\n",
    "    feed_dict = {X_in: np.ones(5)}\n",
    "    b_eval = session.run(b, feed_dict=feed_dict)\n",
    "    print('run b only,   b={}'.format(b_eval))\n",
    "    b_eval = session.run(b, feed_dict=feed_dict)\n",
    "    print('run b only,   b={}'.format(b_eval))\n",
    "    _, b_eval = session.run([assign_op, b], feed_dict=feed_dict)\n",
    "    print('run assign_op and b,   b={}'.format(b_eval))\n",
    "    _, b_eval = session.run([assign_op, b], feed_dict=feed_dict)\n",
    "    print('run assign_op and b,   b={}'.format(b_eval))\n",
    "    b_eval, _ = session.run([b, assign_op], feed_dict=feed_dict)\n",
    "    print('run b and assign_op,   b={}'.format(b_eval))\n",
    "    b_eval, _ = session.run([b, assign_op], feed_dict=feed_dict)\n",
    "    print('run b and assign_op,   b={}'.format(b_eval))\n",
    "    b_eval = session.run(b, feed_dict=feed_dict)\n",
    "    print('run b only,   b={}'.format(b_eval))\n",
    "    b_eval = session.run(b, feed_dict=feed_dict)\n",
    "    print('run b only,   b={}'.format(b_eval))"
   ]
  },
  {
   "cell_type": "markdown",
   "metadata": {},
   "source": [
    "## 2. Use `tf.assign` and `control_dependencies`\n",
    "\n",
    "The operation `control_dependencies` will make sure that running any variables within its scope will first run the dependency\n",
    "\n",
    "reference: https://blog.metaflow.fr/tensorflow-mutating-variables-and-control-flow-2181dd238e62\n"
   ]
  },
  {
   "cell_type": "code",
   "execution_count": 65,
   "metadata": {},
   "outputs": [
    {
     "name": "stdout",
     "output_type": "stream",
     "text": [
      "run b_new,   b=[ 1.  1.  1.  1.  1.]\nrun b_new,   b=[ 2.  2.  2.  2.  2.]\nrun b_new,   b=[ 3.  3.  3.  3.  3.]\nrun b    ,   b=[ 3.  3.  3.  3.  3.]\nrun b    ,   b=[ 3.  3.  3.  3.  3.]\n"
     ]
    }
   ],
   "source": [
    "graph = tf.Graph()\n",
    "with graph.as_default():\n",
    "    # graph: variable b increment by X_in\n",
    "    X_in = tf.placeholder(dtype=tf.float32, shape=5)\n",
    "    b = tf.Variable(dtype=tf.float32, initial_value=np.zeros(5))\n",
    "    assign_op = tf.assign(b, b + X_in)     # assign operation, has to be run to update b\n",
    "    with tf.control_dependencies([assign_op]):\n",
    "        b_new = b*1   # this works because b_new is a operator\n",
    "        # b_new = b   # this will not work because b_new is a another name of b    \n",
    "\n",
    "\n",
    "with tf.Session(graph=graph) as session:\n",
    "    tf.global_variables_initializer().run()\n",
    "    feed_dict = {X_in: np.ones(5)}\n",
    "    b_eval = session.run(b_new, feed_dict=feed_dict)\n",
    "    print('run b_new,   b={}'.format(b_eval) )\n",
    "    b_eval = session.run(b_new, feed_dict=feed_dict)\n",
    "    print('run b_new,   b={}'.format(b_eval) )\n",
    "    b_eval = session.run(b_new, feed_dict=feed_dict)\n",
    "    print('run b_new,   b={}'.format(b_eval) )\n",
    "    b_eval = session.run(b, feed_dict=feed_dict)\n",
    "    print('run b    ,   b={}'.format(b_eval) )\n",
    "    b_eval = session.run(b, feed_dict=feed_dict)\n",
    "    print('run b    ,   b={}'.format(b_eval) )\n"
   ]
  },
  {
   "cell_type": "code",
   "execution_count": null,
   "metadata": {},
   "outputs": [],
   "source": []
  }
 ],
 "metadata": {
  "kernelspec": {
   "display_name": "Python 2",
   "language": "python",
   "name": "python2"
  },
  "language_info": {
   "codemirror_mode": {
    "name": "ipython",
    "version": 2
   },
   "file_extension": ".py",
   "mimetype": "text/x-python",
   "name": "python",
   "nbconvert_exporter": "python",
   "pygments_lexer": "ipython2",
   "version": "2.7.6"
  }
 },
 "nbformat": 4,
 "nbformat_minor": 0
}
